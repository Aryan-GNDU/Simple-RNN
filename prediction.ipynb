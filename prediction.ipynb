{
 "cells": [
  {
   "cell_type": "code",
   "execution_count": 4,
   "metadata": {},
   "outputs": [],
   "source": [
    "# Step 1: Import Libraries and Load the Model\n",
    "import numpy as np\n",
    "import tensorflow as tf\n",
    "from tensorflow.keras.datasets import imdb\n",
    "from tensorflow.keras.preprocessing import sequence\n",
    "from tensorflow.keras.models import load_model"
   ]
  },
  {
   "cell_type": "code",
   "execution_count": 5,
   "metadata": {},
   "outputs": [],
   "source": [
    "\n",
    "# Load the IMDB dataset word index\n",
    "word_index = imdb.get_word_index()\n",
    "reverse_word_index = {value: key for key, value in word_index.items()}"
   ]
  },
  {
   "cell_type": "code",
   "execution_count": 6,
   "metadata": {},
   "outputs": [
    {
     "name": "stderr",
     "output_type": "stream",
     "text": [
      "WARNING:absl:Compiled the loaded model, but the compiled metrics have yet to be built. `model.compile_metrics` will be empty until you train or evaluate the model.\n"
     ]
    },
    {
     "data": {
      "text/html": [
       "<pre style=\"white-space:pre;overflow-x:auto;line-height:normal;font-family:Menlo,'DejaVu Sans Mono',consolas,'Courier New',monospace\"><span style=\"font-weight: bold\">Model: \"sequential\"</span>\n",
       "</pre>\n"
      ],
      "text/plain": [
       "\u001b[1mModel: \"sequential\"\u001b[0m\n"
      ]
     },
     "metadata": {},
     "output_type": "display_data"
    },
    {
     "data": {
      "text/html": [
       "<pre style=\"white-space:pre;overflow-x:auto;line-height:normal;font-family:Menlo,'DejaVu Sans Mono',consolas,'Courier New',monospace\">┏━━━━━━━━━━━━━━━━━━━━━━━━━━━━━━━━━┳━━━━━━━━━━━━━━━━━━━━━━━━┳━━━━━━━━━━━━━━━┓\n",
       "┃<span style=\"font-weight: bold\"> Layer (type)                    </span>┃<span style=\"font-weight: bold\"> Output Shape           </span>┃<span style=\"font-weight: bold\">       Param # </span>┃\n",
       "┡━━━━━━━━━━━━━━━━━━━━━━━━━━━━━━━━━╇━━━━━━━━━━━━━━━━━━━━━━━━╇━━━━━━━━━━━━━━━┩\n",
       "│ embedding (<span style=\"color: #0087ff; text-decoration-color: #0087ff\">Embedding</span>)           │ (<span style=\"color: #00af00; text-decoration-color: #00af00\">32</span>, <span style=\"color: #00af00; text-decoration-color: #00af00\">500</span>, <span style=\"color: #00af00; text-decoration-color: #00af00\">128</span>)         │     <span style=\"color: #00af00; text-decoration-color: #00af00\">1,280,000</span> │\n",
       "├─────────────────────────────────┼────────────────────────┼───────────────┤\n",
       "│ simple_rnn (<span style=\"color: #0087ff; text-decoration-color: #0087ff\">SimpleRNN</span>)          │ (<span style=\"color: #00af00; text-decoration-color: #00af00\">32</span>, <span style=\"color: #00af00; text-decoration-color: #00af00\">128</span>)              │        <span style=\"color: #00af00; text-decoration-color: #00af00\">32,896</span> │\n",
       "├─────────────────────────────────┼────────────────────────┼───────────────┤\n",
       "│ dense (<span style=\"color: #0087ff; text-decoration-color: #0087ff\">Dense</span>)                   │ (<span style=\"color: #00af00; text-decoration-color: #00af00\">32</span>, <span style=\"color: #00af00; text-decoration-color: #00af00\">1</span>)                │           <span style=\"color: #00af00; text-decoration-color: #00af00\">129</span> │\n",
       "└─────────────────────────────────┴────────────────────────┴───────────────┘\n",
       "</pre>\n"
      ],
      "text/plain": [
       "┏━━━━━━━━━━━━━━━━━━━━━━━━━━━━━━━━━┳━━━━━━━━━━━━━━━━━━━━━━━━┳━━━━━━━━━━━━━━━┓\n",
       "┃\u001b[1m \u001b[0m\u001b[1mLayer (type)                   \u001b[0m\u001b[1m \u001b[0m┃\u001b[1m \u001b[0m\u001b[1mOutput Shape          \u001b[0m\u001b[1m \u001b[0m┃\u001b[1m \u001b[0m\u001b[1m      Param #\u001b[0m\u001b[1m \u001b[0m┃\n",
       "┡━━━━━━━━━━━━━━━━━━━━━━━━━━━━━━━━━╇━━━━━━━━━━━━━━━━━━━━━━━━╇━━━━━━━━━━━━━━━┩\n",
       "│ embedding (\u001b[38;5;33mEmbedding\u001b[0m)           │ (\u001b[38;5;34m32\u001b[0m, \u001b[38;5;34m500\u001b[0m, \u001b[38;5;34m128\u001b[0m)         │     \u001b[38;5;34m1,280,000\u001b[0m │\n",
       "├─────────────────────────────────┼────────────────────────┼───────────────┤\n",
       "│ simple_rnn (\u001b[38;5;33mSimpleRNN\u001b[0m)          │ (\u001b[38;5;34m32\u001b[0m, \u001b[38;5;34m128\u001b[0m)              │        \u001b[38;5;34m32,896\u001b[0m │\n",
       "├─────────────────────────────────┼────────────────────────┼───────────────┤\n",
       "│ dense (\u001b[38;5;33mDense\u001b[0m)                   │ (\u001b[38;5;34m32\u001b[0m, \u001b[38;5;34m1\u001b[0m)                │           \u001b[38;5;34m129\u001b[0m │\n",
       "└─────────────────────────────────┴────────────────────────┴───────────────┘\n"
      ]
     },
     "metadata": {},
     "output_type": "display_data"
    },
    {
     "data": {
      "text/html": [
       "<pre style=\"white-space:pre;overflow-x:auto;line-height:normal;font-family:Menlo,'DejaVu Sans Mono',consolas,'Courier New',monospace\"><span style=\"font-weight: bold\"> Total params: </span><span style=\"color: #00af00; text-decoration-color: #00af00\">1,313,027</span> (5.01 MB)\n",
       "</pre>\n"
      ],
      "text/plain": [
       "\u001b[1m Total params: \u001b[0m\u001b[38;5;34m1,313,027\u001b[0m (5.01 MB)\n"
      ]
     },
     "metadata": {},
     "output_type": "display_data"
    },
    {
     "data": {
      "text/html": [
       "<pre style=\"white-space:pre;overflow-x:auto;line-height:normal;font-family:Menlo,'DejaVu Sans Mono',consolas,'Courier New',monospace\"><span style=\"font-weight: bold\"> Trainable params: </span><span style=\"color: #00af00; text-decoration-color: #00af00\">1,313,025</span> (5.01 MB)\n",
       "</pre>\n"
      ],
      "text/plain": [
       "\u001b[1m Trainable params: \u001b[0m\u001b[38;5;34m1,313,025\u001b[0m (5.01 MB)\n"
      ]
     },
     "metadata": {},
     "output_type": "display_data"
    },
    {
     "data": {
      "text/html": [
       "<pre style=\"white-space:pre;overflow-x:auto;line-height:normal;font-family:Menlo,'DejaVu Sans Mono',consolas,'Courier New',monospace\"><span style=\"font-weight: bold\"> Non-trainable params: </span><span style=\"color: #00af00; text-decoration-color: #00af00\">0</span> (0.00 B)\n",
       "</pre>\n"
      ],
      "text/plain": [
       "\u001b[1m Non-trainable params: \u001b[0m\u001b[38;5;34m0\u001b[0m (0.00 B)\n"
      ]
     },
     "metadata": {},
     "output_type": "display_data"
    },
    {
     "data": {
      "text/html": [
       "<pre style=\"white-space:pre;overflow-x:auto;line-height:normal;font-family:Menlo,'DejaVu Sans Mono',consolas,'Courier New',monospace\"><span style=\"font-weight: bold\"> Optimizer params: </span><span style=\"color: #00af00; text-decoration-color: #00af00\">2</span> (12.00 B)\n",
       "</pre>\n"
      ],
      "text/plain": [
       "\u001b[1m Optimizer params: \u001b[0m\u001b[38;5;34m2\u001b[0m (12.00 B)\n"
      ]
     },
     "metadata": {},
     "output_type": "display_data"
    }
   ],
   "source": [
    "# Load the pre-trained model with ReLU activation\n",
    "model = load_model('simple_rnn_imdb.h5')\n",
    "model.summary()"
   ]
  },
  {
   "cell_type": "code",
   "execution_count": 7,
   "metadata": {},
   "outputs": [
    {
     "data": {
      "text/plain": [
       "[array([[-0.06355235, -0.02465743,  0.14085655, ...,  0.9358099 ,\n",
       "          0.902948  ,  0.95126545],\n",
       "        [ 0.01081266, -0.08251645,  0.03653757, ...,  0.02798585,\n",
       "          0.06704701, -0.01433664],\n",
       "        [-0.00901839, -0.05895153,  0.01760521, ...,  0.07086546,\n",
       "          0.14123012,  0.023752  ],\n",
       "        ...,\n",
       "        [ 0.02895229, -0.02359926,  0.03563296, ...,  0.00649727,\n",
       "          0.03457348, -0.03093563],\n",
       "        [ 0.02921585, -0.04592828,  0.01063567, ..., -0.00339838,\n",
       "         -0.01200722,  0.05215248],\n",
       "        [ 0.04687631, -0.0137849 , -0.0157276 , ..., -0.0415391 ,\n",
       "         -0.04224606,  0.0392835 ]], dtype=float32),\n",
       " array([[-0.10266967,  0.02353935,  0.10069679, ..., -0.16967446,\n",
       "         -0.05506233,  0.0444252 ],\n",
       "        [ 0.06975552,  0.05169265,  0.11480494, ..., -0.06607389,\n",
       "          0.09157892, -0.04810068],\n",
       "        [-0.01625074,  0.03032537,  0.11191344, ...,  0.02694738,\n",
       "         -0.05737091,  0.05129134],\n",
       "        ...,\n",
       "        [-0.0262347 , -0.12687084, -0.0397047 , ..., -0.13825758,\n",
       "          0.06604344, -0.0724838 ],\n",
       "        [ 0.0538004 ,  0.10190043, -0.09917525, ...,  0.00825249,\n",
       "         -0.05140581, -0.08631131],\n",
       "        [-0.09670978, -0.05419352,  0.12714778, ...,  0.16804822,\n",
       "          0.1451198 , -0.16146725]], dtype=float32),\n",
       " array([[ 0.02125975, -0.0527651 ,  0.1086993 , ...,  0.10200965,\n",
       "         -0.03504325, -0.03109658],\n",
       "        [ 0.03998956,  0.1003453 , -0.12364516, ...,  0.06386411,\n",
       "          0.11558233,  0.03643332],\n",
       "        [ 0.00649387,  0.1993153 ,  0.06048078, ...,  0.05270202,\n",
       "          0.05651366,  0.09451117],\n",
       "        ...,\n",
       "        [-0.01181104, -0.03088937, -0.04438188, ...,  0.02522513,\n",
       "         -0.00061257, -0.10085139],\n",
       "        [ 0.10240418,  0.16905157, -0.06204614, ..., -0.07914258,\n",
       "          0.08156461, -0.04558196],\n",
       "        [-0.10725734, -0.13739295, -0.05540212, ..., -0.04030087,\n",
       "         -0.06453896,  0.02510372]], dtype=float32),\n",
       " array([-0.02767942,  0.04474315,  0.02312796, -0.02469545, -0.00745775,\n",
       "         0.01241546,  0.00732855,  0.02405464,  0.01737043, -0.03233276,\n",
       "         0.06279773,  0.00627565, -0.00643635, -0.0165765 , -0.01393618,\n",
       "         0.00072071, -0.00107378, -0.01736851, -0.01302409, -0.051487  ,\n",
       "        -0.00500501, -0.02234023, -0.01185087, -0.01384193, -0.00775742,\n",
       "         0.00090912,  0.01771549, -0.01639314,  0.0185822 , -0.00642142,\n",
       "        -0.02116741,  0.00878994,  0.0161253 , -0.01098126, -0.01389849,\n",
       "        -0.01179529,  0.00019014, -0.02243881,  0.01456276, -0.01823329,\n",
       "        -0.0244594 , -0.02472092,  0.0139679 ,  0.014031  , -0.02921791,\n",
       "         0.03216266, -0.02261167,  0.00903661, -0.01846253, -0.02512653,\n",
       "         0.00212136,  0.01605294, -0.00772377, -0.03637351, -0.00241954,\n",
       "         0.04655218, -0.0276427 , -0.00912525, -0.02501122, -0.05747373,\n",
       "        -0.02147491, -0.04339908, -0.00930765, -0.02108455, -0.04007064,\n",
       "         0.00887728, -0.00012909,  0.00639454, -0.0395826 , -0.01036701,\n",
       "         0.01660945, -0.01633384, -0.01158063, -0.0106823 , -0.00793965,\n",
       "        -0.0278499 , -0.02476547, -0.02334208, -0.00687255, -0.03436938,\n",
       "        -0.01743616, -0.00988272, -0.01498228,  0.01697397, -0.00710757,\n",
       "        -0.02106621, -0.00215432, -0.04032735,  0.00414035,  0.01125564,\n",
       "         0.00260562,  0.01016421, -0.03118538, -0.01218924,  0.01438325,\n",
       "         0.01974253,  0.03338182, -0.01859378,  0.02438001, -0.02500831,\n",
       "         0.00819078,  0.00499199, -0.01267304,  0.00507701, -0.01951   ,\n",
       "        -0.00239861,  0.0338033 ,  0.00256291, -0.02417009,  0.01858127,\n",
       "         0.02631493,  0.01047086, -0.0035359 ,  0.01908256, -0.00227581,\n",
       "        -0.03588531, -0.02471889,  0.00153286, -0.02486502,  0.00951524,\n",
       "        -0.01878183, -0.03676853,  0.01865994, -0.03013208, -0.00884648,\n",
       "         0.02898042, -0.00440942,  0.00955833], dtype=float32),\n",
       " array([[-0.16691148],\n",
       "        [ 0.1945033 ],\n",
       "        [ 0.06975569],\n",
       "        [ 0.0744153 ],\n",
       "        [-0.05578398],\n",
       "        [ 0.1714575 ],\n",
       "        [-0.22304346],\n",
       "        [ 0.02006403],\n",
       "        [-0.09801989],\n",
       "        [ 0.20516004],\n",
       "        [-0.1233835 ],\n",
       "        [ 0.15739812],\n",
       "        [ 0.27069628],\n",
       "        [-0.2740406 ],\n",
       "        [-0.13906914],\n",
       "        [-0.0189471 ],\n",
       "        [ 0.17209361],\n",
       "        [-0.13355878],\n",
       "        [ 0.06209711],\n",
       "        [-0.14742213],\n",
       "        [ 0.13962491],\n",
       "        [ 0.06429688],\n",
       "        [-0.12924947],\n",
       "        [ 0.05408954],\n",
       "        [ 0.16165455],\n",
       "        [ 0.0766028 ],\n",
       "        [-0.12949882],\n",
       "        [ 0.17718479],\n",
       "        [-0.22158317],\n",
       "        [-0.28269622],\n",
       "        [ 0.12616542],\n",
       "        [ 0.04044086],\n",
       "        [-0.12864824],\n",
       "        [-0.0896767 ],\n",
       "        [ 0.03089707],\n",
       "        [ 0.12053593],\n",
       "        [-0.11380305],\n",
       "        [-0.11812778],\n",
       "        [-0.06315175],\n",
       "        [ 0.04382006],\n",
       "        [-0.17747061],\n",
       "        [ 0.0659446 ],\n",
       "        [ 0.08694199],\n",
       "        [-0.14774913],\n",
       "        [-0.00327823],\n",
       "        [-0.0151202 ],\n",
       "        [ 0.14746223],\n",
       "        [-0.15702939],\n",
       "        [-0.09127434],\n",
       "        [-0.12969059],\n",
       "        [ 0.12505206],\n",
       "        [ 0.02236591],\n",
       "        [-0.14698197],\n",
       "        [-0.18638767],\n",
       "        [ 0.05722387],\n",
       "        [ 0.08651617],\n",
       "        [ 0.17841326],\n",
       "        [ 0.01933986],\n",
       "        [-0.03707971],\n",
       "        [ 0.14129147],\n",
       "        [ 0.17765729],\n",
       "        [ 0.07161081],\n",
       "        [ 0.22002617],\n",
       "        [ 0.02547654],\n",
       "        [-0.05767542],\n",
       "        [ 0.02045777],\n",
       "        [ 0.12692276],\n",
       "        [-0.04741237],\n",
       "        [-0.05852765],\n",
       "        [-0.05518425],\n",
       "        [ 0.14015134],\n",
       "        [-0.02153825],\n",
       "        [-0.19363928],\n",
       "        [-0.19780391],\n",
       "        [-0.20877749],\n",
       "        [ 0.02408569],\n",
       "        [ 0.23445259],\n",
       "        [-0.02638601],\n",
       "        [ 0.20842   ],\n",
       "        [-0.01634804],\n",
       "        [ 0.08741635],\n",
       "        [-0.0520586 ],\n",
       "        [-0.12128358],\n",
       "        [-0.08120143],\n",
       "        [-0.00600296],\n",
       "        [-0.21108998],\n",
       "        [-0.02143041],\n",
       "        [ 0.00583425],\n",
       "        [-0.07141878],\n",
       "        [-0.15217109],\n",
       "        [ 0.16466585],\n",
       "        [ 0.16098209],\n",
       "        [-0.0812104 ],\n",
       "        [-0.09203436],\n",
       "        [ 0.14539954],\n",
       "        [ 0.36891136],\n",
       "        [ 0.09170137],\n",
       "        [ 0.17362669],\n",
       "        [-0.02663244],\n",
       "        [-0.05126441],\n",
       "        [-0.09895569],\n",
       "        [ 0.19214015],\n",
       "        [ 0.08919371],\n",
       "        [ 0.3090174 ],\n",
       "        [ 0.15703197],\n",
       "        [ 0.2466032 ],\n",
       "        [-0.08330531],\n",
       "        [-0.07024762],\n",
       "        [ 0.13828577],\n",
       "        [-0.14773168],\n",
       "        [-0.03074096],\n",
       "        [-0.01929217],\n",
       "        [-0.25444645],\n",
       "        [ 0.10850436],\n",
       "        [-0.2659031 ],\n",
       "        [ 0.19838206],\n",
       "        [ 0.0596517 ],\n",
       "        [ 0.1781251 ],\n",
       "        [-0.02116298],\n",
       "        [ 0.16022521],\n",
       "        [-0.2008278 ],\n",
       "        [ 0.05151732],\n",
       "        [ 0.08045964],\n",
       "        [ 0.17315918],\n",
       "        [ 0.1421503 ],\n",
       "        [ 0.08748583],\n",
       "        [ 0.17352901],\n",
       "        [-0.06549584]], dtype=float32),\n",
       " array([0.43296853], dtype=float32)]"
      ]
     },
     "execution_count": 7,
     "metadata": {},
     "output_type": "execute_result"
    }
   ],
   "source": [
    "model.get_weights()"
   ]
  },
  {
   "cell_type": "code",
   "execution_count": 8,
   "metadata": {},
   "outputs": [],
   "source": [
    "# Step 2: Helper Functions\n",
    "# Function to decode reviews\n",
    "def decode_review(encoded_review):\n",
    "    return ' '.join([reverse_word_index.get(i - 3, '?') for i in encoded_review])\n",
    "\n",
    "# Function to preprocess user input\n",
    "def preprocess_text(text):\n",
    "    words = text.lower().split()\n",
    "    encoded_review = [word_index.get(word, 2) + 3 for word in words]\n",
    "    padded_review = sequence.pad_sequences([encoded_review], maxlen=500)\n",
    "    return padded_review"
   ]
  },
  {
   "cell_type": "code",
   "execution_count": 9,
   "metadata": {},
   "outputs": [],
   "source": [
    "### Prediction  function\n",
    "\n",
    "def predict_sentiment(review):\n",
    "    preprocessed_input=preprocess_text(review)\n",
    "\n",
    "    prediction=model.predict(preprocessed_input)\n",
    "\n",
    "    sentiment = 'Positive' if prediction[0][0] > 0.5 else 'Negative'\n",
    "    \n",
    "    return sentiment, prediction[0][0]\n",
    "\n"
   ]
  },
  {
   "cell_type": "code",
   "execution_count": 10,
   "metadata": {},
   "outputs": [
    {
     "name": "stdout",
     "output_type": "stream",
     "text": [
      "\u001b[1m1/1\u001b[0m \u001b[32m━━━━━━━━━━━━━━━━━━━━\u001b[0m\u001b[37m\u001b[0m \u001b[1m0s\u001b[0m 261ms/step\n",
      "Review: This movie was fantastic! The acting was great and the plot was thrilling.\n",
      "Sentiment: Negative\n",
      "Prediction Score: 0.40550583600997925\n"
     ]
    }
   ],
   "source": [
    "# Step 4: User Input and Prediction\n",
    "# Example review for prediction\n",
    "example_review = \"This movie was fantastic! The acting was great and the plot was thrilling.\"\n",
    "\n",
    "sentiment,score=predict_sentiment(example_review)\n",
    "\n",
    "print(f'Review: {example_review}')\n",
    "print(f'Sentiment: {sentiment}')\n",
    "print(f'Prediction Score: {score}')"
   ]
  },
  {
   "cell_type": "code",
   "execution_count": null,
   "metadata": {},
   "outputs": [],
   "source": []
  },
  {
   "cell_type": "code",
   "execution_count": null,
   "metadata": {},
   "outputs": [],
   "source": []
  },
  {
   "cell_type": "code",
   "execution_count": null,
   "metadata": {},
   "outputs": [],
   "source": []
  },
  {
   "cell_type": "code",
   "execution_count": null,
   "metadata": {},
   "outputs": [],
   "source": []
  }
 ],
 "metadata": {
  "kernelspec": {
   "display_name": "Python 3",
   "language": "python",
   "name": "python3"
  },
  "language_info": {
   "codemirror_mode": {
    "name": "ipython",
    "version": 3
   },
   "file_extension": ".py",
   "mimetype": "text/x-python",
   "name": "python",
   "nbconvert_exporter": "python",
   "pygments_lexer": "ipython3",
   "version": "3.12.0"
  }
 },
 "nbformat": 4,
 "nbformat_minor": 2
}

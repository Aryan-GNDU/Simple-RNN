{
 "cells": [
  {
   "cell_type": "code",
   "execution_count": 1,
   "metadata": {},
   "outputs": [],
   "source": [
    "import numpy as np\n",
    "import tensorflow as tf\n",
    "from tensorflow.keras.datasets import imdb\n",
    "from tensorflow.keras.preprocessing import sequence\n",
    "from tensorflow.keras.models import load_model"
   ]
  },
  {
   "cell_type": "code",
   "execution_count": 2,
   "metadata": {},
   "outputs": [],
   "source": [
    "word_index =imdb.get_word_index()\n",
    "reversed_word_index = {value: key for key, value in word_index.items()}"
   ]
  },
  {
   "cell_type": "code",
   "execution_count": 3,
   "metadata": {},
   "outputs": [
    {
     "name": "stderr",
     "output_type": "stream",
     "text": [
      "WARNING:absl:Compiled the loaded model, but the compiled metrics have yet to be built. `model.compile_metrics` will be empty until you train or evaluate the model.\n"
     ]
    },
    {
     "data": {
      "text/html": [
       "<pre style=\"white-space:pre;overflow-x:auto;line-height:normal;font-family:Menlo,'DejaVu Sans Mono',consolas,'Courier New',monospace\"><span style=\"font-weight: bold\">Model: \"sequential\"</span>\n",
       "</pre>\n"
      ],
      "text/plain": [
       "\u001b[1mModel: \"sequential\"\u001b[0m\n"
      ]
     },
     "metadata": {},
     "output_type": "display_data"
    },
    {
     "data": {
      "text/html": [
       "<pre style=\"white-space:pre;overflow-x:auto;line-height:normal;font-family:Menlo,'DejaVu Sans Mono',consolas,'Courier New',monospace\">┏━━━━━━━━━━━━━━━━━━━━━━━━━━━━━━━━━┳━━━━━━━━━━━━━━━━━━━━━━━━┳━━━━━━━━━━━━━━━┓\n",
       "┃<span style=\"font-weight: bold\"> Layer (type)                    </span>┃<span style=\"font-weight: bold\"> Output Shape           </span>┃<span style=\"font-weight: bold\">       Param # </span>┃\n",
       "┡━━━━━━━━━━━━━━━━━━━━━━━━━━━━━━━━━╇━━━━━━━━━━━━━━━━━━━━━━━━╇━━━━━━━━━━━━━━━┩\n",
       "│ embedding (<span style=\"color: #0087ff; text-decoration-color: #0087ff\">Embedding</span>)           │ (<span style=\"color: #00af00; text-decoration-color: #00af00\">32</span>, <span style=\"color: #00af00; text-decoration-color: #00af00\">500</span>, <span style=\"color: #00af00; text-decoration-color: #00af00\">128</span>)         │     <span style=\"color: #00af00; text-decoration-color: #00af00\">1,280,000</span> │\n",
       "├─────────────────────────────────┼────────────────────────┼───────────────┤\n",
       "│ simple_rnn (<span style=\"color: #0087ff; text-decoration-color: #0087ff\">SimpleRNN</span>)          │ (<span style=\"color: #00af00; text-decoration-color: #00af00\">32</span>, <span style=\"color: #00af00; text-decoration-color: #00af00\">128</span>)              │        <span style=\"color: #00af00; text-decoration-color: #00af00\">32,896</span> │\n",
       "├─────────────────────────────────┼────────────────────────┼───────────────┤\n",
       "│ dense (<span style=\"color: #0087ff; text-decoration-color: #0087ff\">Dense</span>)                   │ (<span style=\"color: #00af00; text-decoration-color: #00af00\">32</span>, <span style=\"color: #00af00; text-decoration-color: #00af00\">1</span>)                │           <span style=\"color: #00af00; text-decoration-color: #00af00\">129</span> │\n",
       "└─────────────────────────────────┴────────────────────────┴───────────────┘\n",
       "</pre>\n"
      ],
      "text/plain": [
       "┏━━━━━━━━━━━━━━━━━━━━━━━━━━━━━━━━━┳━━━━━━━━━━━━━━━━━━━━━━━━┳━━━━━━━━━━━━━━━┓\n",
       "┃\u001b[1m \u001b[0m\u001b[1mLayer (type)                   \u001b[0m\u001b[1m \u001b[0m┃\u001b[1m \u001b[0m\u001b[1mOutput Shape          \u001b[0m\u001b[1m \u001b[0m┃\u001b[1m \u001b[0m\u001b[1m      Param #\u001b[0m\u001b[1m \u001b[0m┃\n",
       "┡━━━━━━━━━━━━━━━━━━━━━━━━━━━━━━━━━╇━━━━━━━━━━━━━━━━━━━━━━━━╇━━━━━━━━━━━━━━━┩\n",
       "│ embedding (\u001b[38;5;33mEmbedding\u001b[0m)           │ (\u001b[38;5;34m32\u001b[0m, \u001b[38;5;34m500\u001b[0m, \u001b[38;5;34m128\u001b[0m)         │     \u001b[38;5;34m1,280,000\u001b[0m │\n",
       "├─────────────────────────────────┼────────────────────────┼───────────────┤\n",
       "│ simple_rnn (\u001b[38;5;33mSimpleRNN\u001b[0m)          │ (\u001b[38;5;34m32\u001b[0m, \u001b[38;5;34m128\u001b[0m)              │        \u001b[38;5;34m32,896\u001b[0m │\n",
       "├─────────────────────────────────┼────────────────────────┼───────────────┤\n",
       "│ dense (\u001b[38;5;33mDense\u001b[0m)                   │ (\u001b[38;5;34m32\u001b[0m, \u001b[38;5;34m1\u001b[0m)                │           \u001b[38;5;34m129\u001b[0m │\n",
       "└─────────────────────────────────┴────────────────────────┴───────────────┘\n"
      ]
     },
     "metadata": {},
     "output_type": "display_data"
    },
    {
     "data": {
      "text/html": [
       "<pre style=\"white-space:pre;overflow-x:auto;line-height:normal;font-family:Menlo,'DejaVu Sans Mono',consolas,'Courier New',monospace\"><span style=\"font-weight: bold\"> Total params: </span><span style=\"color: #00af00; text-decoration-color: #00af00\">1,313,027</span> (5.01 MB)\n",
       "</pre>\n"
      ],
      "text/plain": [
       "\u001b[1m Total params: \u001b[0m\u001b[38;5;34m1,313,027\u001b[0m (5.01 MB)\n"
      ]
     },
     "metadata": {},
     "output_type": "display_data"
    },
    {
     "data": {
      "text/html": [
       "<pre style=\"white-space:pre;overflow-x:auto;line-height:normal;font-family:Menlo,'DejaVu Sans Mono',consolas,'Courier New',monospace\"><span style=\"font-weight: bold\"> Trainable params: </span><span style=\"color: #00af00; text-decoration-color: #00af00\">1,313,025</span> (5.01 MB)\n",
       "</pre>\n"
      ],
      "text/plain": [
       "\u001b[1m Trainable params: \u001b[0m\u001b[38;5;34m1,313,025\u001b[0m (5.01 MB)\n"
      ]
     },
     "metadata": {},
     "output_type": "display_data"
    },
    {
     "data": {
      "text/html": [
       "<pre style=\"white-space:pre;overflow-x:auto;line-height:normal;font-family:Menlo,'DejaVu Sans Mono',consolas,'Courier New',monospace\"><span style=\"font-weight: bold\"> Non-trainable params: </span><span style=\"color: #00af00; text-decoration-color: #00af00\">0</span> (0.00 B)\n",
       "</pre>\n"
      ],
      "text/plain": [
       "\u001b[1m Non-trainable params: \u001b[0m\u001b[38;5;34m0\u001b[0m (0.00 B)\n"
      ]
     },
     "metadata": {},
     "output_type": "display_data"
    },
    {
     "data": {
      "text/html": [
       "<pre style=\"white-space:pre;overflow-x:auto;line-height:normal;font-family:Menlo,'DejaVu Sans Mono',consolas,'Courier New',monospace\"><span style=\"font-weight: bold\"> Optimizer params: </span><span style=\"color: #00af00; text-decoration-color: #00af00\">2</span> (12.00 B)\n",
       "</pre>\n"
      ],
      "text/plain": [
       "\u001b[1m Optimizer params: \u001b[0m\u001b[38;5;34m2\u001b[0m (12.00 B)\n"
      ]
     },
     "metadata": {},
     "output_type": "display_data"
    }
   ],
   "source": [
    "# load the pre trained model with Relu axxctivation\n",
    "model = load_model('simple_rnn_model.h5')\n",
    "model.summary()"
   ]
  },
  {
   "cell_type": "code",
   "execution_count": 4,
   "metadata": {},
   "outputs": [
    {
     "data": {
      "text/plain": [
       "[array([[-0.14325474,  0.16923468, -0.22912262, ..., -0.30376646,\n",
       "         -0.10896404, -0.3697198 ],\n",
       "        [-0.12913588, -0.08578502,  0.10245845, ...,  0.11703902,\n",
       "         -0.04327114, -0.12982824],\n",
       "        [ 0.10789881,  0.11807857, -0.12544033, ...,  0.09667923,\n",
       "          0.08146733, -0.07934427],\n",
       "        ...,\n",
       "        [ 0.03301461,  0.04173675,  0.05559419, ...,  0.00319343,\n",
       "         -0.04588709, -0.05380415],\n",
       "        [-0.02057356, -0.007514  , -0.02455064, ...,  0.05769523,\n",
       "          0.00865531, -0.07329123],\n",
       "        [ 0.0956859 ,  0.08488553, -0.00098169, ..., -0.01239561,\n",
       "          0.06559576,  0.0480647 ]], dtype=float32),\n",
       " array([[ 0.0533436 ,  0.06091604, -0.07324912, ...,  0.06008731,\n",
       "         -0.12803064,  0.03914281],\n",
       "        [-0.17382996, -0.09282617,  0.06696892, ..., -0.09104397,\n",
       "          0.05153261,  0.06040952],\n",
       "        [ 0.01733275, -0.03890084, -0.0841978 , ...,  0.0313279 ,\n",
       "          0.02018638, -0.00379709],\n",
       "        ...,\n",
       "        [ 0.05113458, -0.07049723,  0.09543926, ...,  0.03189927,\n",
       "         -0.10050999, -0.02036534],\n",
       "        [-0.02283642, -0.01074525,  0.19536656, ...,  0.08538947,\n",
       "         -0.10683642, -0.03784706],\n",
       "        [ 0.0275626 ,  0.13925573, -0.05731732, ...,  0.01071016,\n",
       "         -0.12761657,  0.16625203]], dtype=float32),\n",
       " array([[-0.0112876 ,  0.04751618,  0.02826115, ...,  0.0865034 ,\n",
       "         -0.21007122,  0.17773801],\n",
       "        [ 0.0413359 ,  0.05924281,  0.02426347, ..., -0.03620134,\n",
       "         -0.05401734, -0.00804525],\n",
       "        [-0.02849082, -0.03292396, -0.07041013, ..., -0.04025863,\n",
       "         -0.04293247,  0.0894172 ],\n",
       "        ...,\n",
       "        [-0.11091091,  0.25664675,  0.03533293, ...,  0.08137832,\n",
       "          0.18977766, -0.04020667],\n",
       "        [-0.09330925, -0.04473662,  0.03132809, ..., -0.11756492,\n",
       "          0.00166763, -0.14191876],\n",
       "        [ 0.02331608, -0.10098275,  0.03500052, ..., -0.19346568,\n",
       "         -0.0117361 ,  0.05416029]], dtype=float32),\n",
       " array([-0.02736441,  0.03948309,  0.01291594, -0.03894337,  0.00454285,\n",
       "         0.0125567 ,  0.01449769,  0.01517046,  0.01301286, -0.00210268,\n",
       "         0.0022844 ,  0.00793468, -0.01826707,  0.01156577,  0.00377072,\n",
       "         0.00423457,  0.01932664, -0.02584893,  0.00544009, -0.01907568,\n",
       "        -0.04743861, -0.00591404, -0.01345723, -0.00925615, -0.03333326,\n",
       "        -0.01170896, -0.03938824, -0.00930856,  0.024544  ,  0.0384075 ,\n",
       "        -0.01116417, -0.0449391 , -0.01918226, -0.0118813 , -0.03263583,\n",
       "         0.02971666,  0.0113155 , -0.00568593, -0.00472727, -0.01748612,\n",
       "        -0.02441485, -0.01342225, -0.03508526, -0.01699851, -0.02432988,\n",
       "         0.00806225,  0.02131687, -0.03380447, -0.01418183, -0.01743163,\n",
       "         0.00380578, -0.00873404, -0.04008289, -0.01424676,  0.06362645,\n",
       "        -0.00593125,  0.04026515,  0.00758159,  0.01906454, -0.04219551,\n",
       "        -0.01424051, -0.00752358, -0.04463892, -0.00445912, -0.00365296,\n",
       "         0.02961714,  0.02456689,  0.01809615,  0.00665516, -0.00942015,\n",
       "         0.03572893, -0.02132117,  0.00866104,  0.0376846 ,  0.02104509,\n",
       "        -0.01107053, -0.01136056, -0.02730396, -0.00669868, -0.00471714,\n",
       "         0.04811126, -0.02309609,  0.02004112, -0.02006597,  0.01987078,\n",
       "        -0.01390733,  0.00827185, -0.00778794, -0.00620841, -0.01910082,\n",
       "         0.00013554,  0.03367859,  0.03054348, -0.0191649 ,  0.00155427,\n",
       "        -0.02628105,  0.01962665,  0.0125746 , -0.00991531,  0.02019124,\n",
       "        -0.02748411,  0.0203096 ,  0.03868174, -0.00181113, -0.00132858,\n",
       "         0.00893506,  0.05044359,  0.01167393, -0.02829433, -0.0136378 ,\n",
       "        -0.02389596, -0.01515648,  0.00290932,  0.02066535, -0.01913828,\n",
       "        -0.01511998,  0.0306638 , -0.02093808, -0.00552726, -0.00526693,\n",
       "         0.00029569,  0.03734695, -0.01288305, -0.00524902, -0.01106992,\n",
       "        -0.03255649, -0.03673999,  0.00343101], dtype=float32),\n",
       " array([[-0.19917671],\n",
       "        [ 0.09850971],\n",
       "        [ 0.08380534],\n",
       "        [-0.02532984],\n",
       "        [-0.2636182 ],\n",
       "        [-0.07341576],\n",
       "        [ 0.05929593],\n",
       "        [-0.22772025],\n",
       "        [-0.24813859],\n",
       "        [-0.21884438],\n",
       "        [ 0.1134097 ],\n",
       "        [ 0.20817123],\n",
       "        [-0.18828106],\n",
       "        [-0.1344625 ],\n",
       "        [-0.0369365 ],\n",
       "        [ 0.05508903],\n",
       "        [ 0.06762492],\n",
       "        [ 0.07856431],\n",
       "        [ 0.06040115],\n",
       "        [-0.2001268 ],\n",
       "        [-0.23854516],\n",
       "        [ 0.0101145 ],\n",
       "        [-0.18089275],\n",
       "        [ 0.12752786],\n",
       "        [-0.16887149],\n",
       "        [-0.16108239],\n",
       "        [ 0.17501813],\n",
       "        [-0.11068914],\n",
       "        [ 0.06445523],\n",
       "        [ 0.06043179],\n",
       "        [-0.10332388],\n",
       "        [ 0.12053517],\n",
       "        [-0.13017769],\n",
       "        [ 0.0907819 ],\n",
       "        [ 0.13374506],\n",
       "        [-0.08730869],\n",
       "        [-0.18862145],\n",
       "        [-0.05801804],\n",
       "        [-0.27948436],\n",
       "        [-0.19348219],\n",
       "        [-0.09128692],\n",
       "        [ 0.05474319],\n",
       "        [ 0.22584   ],\n",
       "        [-0.07366366],\n",
       "        [ 0.11483432],\n",
       "        [ 0.00987347],\n",
       "        [ 0.12228757],\n",
       "        [ 0.19795765],\n",
       "        [-0.16195667],\n",
       "        [-0.10462234],\n",
       "        [ 0.0874682 ],\n",
       "        [-0.20276617],\n",
       "        [-0.2640227 ],\n",
       "        [-0.027881  ],\n",
       "        [ 0.08145417],\n",
       "        [-0.26977322],\n",
       "        [ 0.10634737],\n",
       "        [-0.10602371],\n",
       "        [-0.13107538],\n",
       "        [-0.1740831 ],\n",
       "        [-0.30542505],\n",
       "        [-0.06428964],\n",
       "        [-0.12672545],\n",
       "        [-0.20913714],\n",
       "        [-0.15629615],\n",
       "        [ 0.19387135],\n",
       "        [-0.09963422],\n",
       "        [-0.28856334],\n",
       "        [ 0.04900508],\n",
       "        [ 0.09175352],\n",
       "        [-0.08829211],\n",
       "        [-0.07062819],\n",
       "        [-0.3134078 ],\n",
       "        [ 0.02504484],\n",
       "        [-0.06904735],\n",
       "        [-0.22939669],\n",
       "        [-0.07673432],\n",
       "        [ 0.13816501],\n",
       "        [-0.09263171],\n",
       "        [-0.10673252],\n",
       "        [-0.02117552],\n",
       "        [-0.0867623 ],\n",
       "        [ 0.08679941],\n",
       "        [ 0.13199288],\n",
       "        [ 0.09163387],\n",
       "        [ 0.1702874 ],\n",
       "        [-0.2665878 ],\n",
       "        [-0.23935385],\n",
       "        [-0.01136125],\n",
       "        [ 0.23419522],\n",
       "        [ 0.00115359],\n",
       "        [-0.01539714],\n",
       "        [-0.03841556],\n",
       "        [-0.13240461],\n",
       "        [-0.06295355],\n",
       "        [-0.6906089 ],\n",
       "        [-0.54940623],\n",
       "        [-0.514949  ],\n",
       "        [-0.00814867],\n",
       "        [-0.30982682],\n",
       "        [ 0.03418141],\n",
       "        [-0.26715493],\n",
       "        [ 0.09077533],\n",
       "        [ 0.05096788],\n",
       "        [-0.35477188],\n",
       "        [ 0.10104308],\n",
       "        [ 0.12487696],\n",
       "        [-0.25066695],\n",
       "        [ 0.11374939],\n",
       "        [-0.15702733],\n",
       "        [ 0.12788105],\n",
       "        [ 0.04064981],\n",
       "        [-0.3020072 ],\n",
       "        [-0.18243392],\n",
       "        [-0.00894091],\n",
       "        [-0.04503194],\n",
       "        [-0.19480617],\n",
       "        [-0.21364246],\n",
       "        [ 0.00070657],\n",
       "        [-0.5910689 ],\n",
       "        [ 0.05151523],\n",
       "        [ 0.14961994],\n",
       "        [-0.10554784],\n",
       "        [-0.2661348 ],\n",
       "        [-0.06318182],\n",
       "        [ 0.40309203],\n",
       "        [-0.13776192],\n",
       "        [-0.28323793]], dtype=float32),\n",
       " array([-0.7268163], dtype=float32)]"
      ]
     },
     "execution_count": 4,
     "metadata": {},
     "output_type": "execute_result"
    }
   ],
   "source": [
    "model.get_weights()"
   ]
  },
  {
   "cell_type": "code",
   "execution_count": 5,
   "metadata": {},
   "outputs": [],
   "source": [
    "#helper function to decode reviews\n",
    "def decode_review(encoded_review):\n",
    "    return ' '.join([reversed_word_index.get(i-3, '?') for i in encoded_review])\n",
    "\n",
    "# function to  preprocess user input \n",
    "def preprocess_text(text):\n",
    "    words = text.lower().split()\n",
    "    encoded_review = [word_index.get(word,2)+3 for word in words]\n",
    "    padded_review = sequence.pad_sequences([encoded_review], maxlen=500)\n",
    "    return padded_review"
   ]
  },
  {
   "cell_type": "code",
   "execution_count": 6,
   "metadata": {},
   "outputs": [],
   "source": [
    "## create prediction function \n",
    "def predict_sentiment(review):\n",
    "    preprocessed_input = preprocess_text(review)\n",
    "    prediction = model.predict(preprocessed_input)\n",
    "    sentiment = 'Positive' if prediction[0][0] > 0.5 else 'Negative'\n",
    "    return sentiment,prediction[0][0]"
   ]
  },
  {
   "cell_type": "code",
   "execution_count": 7,
   "metadata": {},
   "outputs": [
    {
     "name": "stdout",
     "output_type": "stream",
     "text": [
      "\u001b[1m1/1\u001b[0m \u001b[32m━━━━━━━━━━━━━━━━━━━━\u001b[0m\u001b[37m\u001b[0m \u001b[1m1s\u001b[0m 505ms/step\n",
      "Review: This movie was  fantastic! The acting was great and the plot was thrilling\n",
      "Sentiment : Positive\n",
      "Prediction Score : 0.5914030075073242\n"
     ]
    }
   ],
   "source": [
    "#step 4 : user input and prediction\n",
    "# Example review for prediction\n",
    "\n",
    "example_review = \"This movie was  fantastic! The acting was great and the plot was thrilling\"\n",
    "\n",
    "sentiment,score= predict_sentiment(example_review)\n",
    "print(f'Review: {example_review}')\n",
    "print(f'Sentiment : {sentiment}')\n",
    "print(f'Prediction Score : {score}')"
   ]
  },
  {
   "cell_type": "code",
   "execution_count": null,
   "metadata": {},
   "outputs": [],
   "source": []
  }
 ],
 "metadata": {
  "kernelspec": {
   "display_name": "Python 3",
   "language": "python",
   "name": "python3"
  },
  "language_info": {
   "codemirror_mode": {
    "name": "ipython",
    "version": 3
   },
   "file_extension": ".py",
   "mimetype": "text/x-python",
   "name": "python",
   "nbconvert_exporter": "python",
   "pygments_lexer": "ipython3",
   "version": "3.12.0"
  }
 },
 "nbformat": 4,
 "nbformat_minor": 2
}
